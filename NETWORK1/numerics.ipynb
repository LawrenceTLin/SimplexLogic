{
 "cells": [
  {
   "cell_type": "code",
   "execution_count": 2,
   "metadata": {},
   "outputs": [],
   "source": [
    "def d_to_Qn_n(x, n: int):\n",
    "    \"\"\"\n",
    "    Convert a float to Qn.n fixed-point format.\n",
    "    \n",
    "    Parameters:\n",
    "    x (float): The float number to convert.\n",
    "    \n",
    "    Returns:\n",
    "    int: The Qn.n representation of the input float.\n",
    "    \"\"\"\n",
    "    minval = -2**(n-1)\n",
    "    maxval = 2**(n-1)-2**(-n)\n",
    "    if x < minval or x > maxval:\n",
    "        print('Note: Value out of range for Qn.n format. Clamping to range.')\n",
    "        # Clamp the value to the range of Qn.n\n",
    "        x = max(minval, min(maxval, x))\n",
    "    # Scale and round to nearest integer\n",
    "    qn_n_value = int(round(x * 2**n))\n",
    "    \n",
    "    return qn_n_value\n"
   ]
  },
  {
   "cell_type": "code",
   "execution_count": 7,
   "metadata": {},
   "outputs": [
    {
     "name": "stdout",
     "output_type": "stream",
     "text": [
      "Q8.8: 1024, Q16.16: 262144\n"
     ]
    }
   ],
   "source": [
    "N = 4\n",
    "n8 = d_to_Qn_n(N, 8)\n",
    "n16 = d_to_Qn_n(N, 16)\n",
    "print(f\"Q8.8: {n8}, Q16.16: {n16}\")"
   ]
  },
  {
   "cell_type": "code",
   "execution_count": 10,
   "metadata": {},
   "outputs": [
    {
     "name": "stdout",
     "output_type": "stream",
     "text": [
      "Weight: decimal = 1.2, Q8.8 = 307\n",
      "Weight: decimal = -3.5, Q8.8 = -896\n",
      "Weight: decimal = 0.1, Q8.8 = 26\n",
      "Weight: decimal = -0.03, Q8.8 = -8\n",
      "Input: decimal = 1.5, Q8.8 = 384\n",
      "Input: decimal = -0.2, Q8.8 = -51\n",
      "Input: decimal = -0.3, Q8.8 = -77\n",
      "Input: decimal = -0.1, Q8.8 = -26\n",
      "\n",
      "\n",
      "Dot: decimal = 2.473, Q8.8 = 633\n"
     ]
    }
   ],
   "source": [
    "import numpy as np\n",
    "W = np.array([1.2, -3.5, 0.1, -0.03])\n",
    "input = np.array([1.5, -0.2, -0.3, -0.1])\n",
    "dotprod = np.dot(W, input)\n",
    "\n",
    "for w in W:\n",
    "    print(f\"Weight: decimal = {w}, Q8.8 = {d_to_Qn_n(w, 8)}\")\n",
    "for i in input:\n",
    "    print(f\"Input: decimal = {i}, Q8.8 = {d_to_Qn_n(i, 8)}\")\n",
    "print('\\n')\n",
    "print(f\"Dot: decimal = {dotprod}, Q8.8 = {d_to_Qn_n(dotprod, 8)}\")\n"
   ]
  }
 ],
 "metadata": {
  "kernelspec": {
   "display_name": "Python 3",
   "language": "python",
   "name": "python3"
  },
  "language_info": {
   "codemirror_mode": {
    "name": "ipython",
    "version": 3
   },
   "file_extension": ".py",
   "mimetype": "text/x-python",
   "name": "python",
   "nbconvert_exporter": "python",
   "pygments_lexer": "ipython3",
   "version": "3.9.6"
  }
 },
 "nbformat": 4,
 "nbformat_minor": 2
}
