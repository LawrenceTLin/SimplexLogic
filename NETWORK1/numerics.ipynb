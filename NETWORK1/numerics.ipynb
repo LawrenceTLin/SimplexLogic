{
 "cells": [
  {
   "cell_type": "code",
   "execution_count": 2,
   "metadata": {},
   "outputs": [],
   "source": [
    "def d_to_Qn_n(x, n: int):\n",
    "    \"\"\"\n",
    "    Convert a float to Qn.n fixed-point format.\n",
    "    \n",
    "    Parameters:\n",
    "    x (float): The float number to convert.\n",
    "    \n",
    "    Returns:\n",
    "    int: The Qn.n representation of the input float.\n",
    "    \"\"\"\n",
    "    minval = -2**(n-1)\n",
    "    maxval = 2**(n-1)-2**(-n)\n",
    "    if x < minval or x > maxval:\n",
    "        print('Note: Value out of range for Qn.n format. Clamping to range.')\n",
    "        # Clamp the value to the range of Qn.n\n",
    "        x = max(minval, min(maxval, x))\n",
    "    # Scale and round to nearest integer\n",
    "    qn_n_value = int(round(x * 2**n))\n",
    "    qn_n_value = max(-2**(2*n-1), min(2**(2*n-1)-1, qn_n_value))\n",
    "    \n",
    "    return qn_n_value\n",
    "\n",
    "def Qn_n_to_d(x, n: int):\n",
    "    \"\"\"\n",
    "    Convert a Qn.n fixed-point number to float.\n",
    "    \n",
    "    Parameters:\n",
    "    x (int): The Qn.n number to convert.\n",
    "    \n",
    "    Returns:\n",
    "    float: The float representation of the input Qn.n number.\n",
    "    \"\"\"\n",
    "    # Convert to float and scale down\n",
    "    d_value = x / 2**n\n",
    "    return d_value\n",
    "\n"
   ]
  },
  {
   "cell_type": "code",
   "execution_count": 3,
   "metadata": {},
   "outputs": [
    {
     "name": "stdout",
     "output_type": "stream",
     "text": [
      "Q8.8: -19080, Q16.16: -4884482\n"
     ]
    }
   ],
   "source": [
    "N = -4884482 * 2**(-16)\n",
    "n8 = d_to_Qn_n(N, 8)\n",
    "n16 = d_to_Qn_n(N, 16)\n",
    "print(f\"Q8.8: {n8}, Q16.16: {n16}\")"
   ]
  },
  {
   "cell_type": "code",
   "execution_count": 4,
   "metadata": {},
   "outputs": [
    {
     "name": "stdout",
     "output_type": "stream",
     "text": [
      "Weight 0: decimal = 12.0, Q8.8 = 3072\n",
      "Weight 1: decimal = 30.5, Q8.8 = 7808\n",
      "Weight 2: decimal = -10.0, Q8.8 = -2560\n",
      "Weight 3: decimal = -0.3, Q8.8 = -77\n",
      "\n",
      "Input 0: decimal = -1.5, Q8.8 = -384\n",
      "Input 1: decimal = 1.4, Q8.8 = 358\n",
      "Input 2: decimal = -0.3, Q8.8 = -77\n",
      "Input 3: decimal = 10.1, Q8.8 = 2586\n",
      "\n",
      "Dot: decimal = 24.669999999999995, Q8.8 = 6316\n"
     ]
    }
   ],
   "source": [
    "import numpy as np\n",
    "W = np.array([12, 30.5, -10, -0.3])\n",
    "input = np.array([-1.5, 1.4, -0.3, 10.1])\n",
    "dotprod = np.dot(W, input)\n",
    "\n",
    "for n, w in enumerate(W):\n",
    "    print(f\"Weight {n}: decimal = {w}, Q8.8 = {d_to_Qn_n(w, 8)}\")\n",
    "print('')\n",
    "for n,i in enumerate(input):\n",
    "    print(f\"Input {n}: decimal = {i}, Q8.8 = {d_to_Qn_n(i, 8)}\")\n",
    "print('')\n",
    "print(f\"Dot: decimal = {dotprod}, Q8.8 = {d_to_Qn_n(dotprod, 8)}\")\n"
   ]
  },
  {
   "cell_type": "code",
   "execution_count": 5,
   "metadata": {},
   "outputs": [
    {
     "name": "stdout",
     "output_type": "stream",
     "text": [
      "Q8.8 output:\n",
      "[-814  874]\n"
     ]
    }
   ],
   "source": [
    "Q8_8_weights1 = np.array([[30, 780, -25, -77],\n",
    "                      [308, -78, -250, -779],\n",
    "                      [-302, 788, -250, -77]])\n",
    "\n",
    "Q8_8_weights2 = np.array([[30, 780, -25],\n",
    "                      [308, -78, -250],\n",
    "                      [-302, 788, -250]])\n",
    "\n",
    "Q8_8_weights3 = np.array([[30, 780, -25],\n",
    "                      [308, -78, -250]])\n",
    "\n",
    "d_weights1 = np.zeros((3, 4), dtype=float)\n",
    "for i in range(3):\n",
    "    for j in range(4):\n",
    "        d_weights1[i][j] = Qn_n_to_d(Q8_8_weights1[i][j], 8)\n",
    "\n",
    "d_weights2 = np.zeros((3, 3), dtype=float)\n",
    "for i in range(3):\n",
    "    for j in range(3):\n",
    "        d_weights2[i][j] = Qn_n_to_d(Q8_8_weights2[i][j], 8)\n",
    "\n",
    "d_weights3 = np.zeros((2, 3), dtype=float)\n",
    "for i in range(2):\n",
    "    for j in range(3):\n",
    "        d_weights3[i][j] = Qn_n_to_d(Q8_8_weights3[i][j], 8)\n",
    "\n",
    "Q8_8_in = np.array([-200,35,77,-256])\n",
    "d_in = np.zeros((4,), dtype=float)\n",
    "for i in range(4):\n",
    "    d_in[i] = Qn_n_to_d(Q8_8_in[i], 8)\n",
    "\n",
    "d_out1 = d_weights1 @ d_in\n",
    "d_out2 = d_weights2 @ d_out1\n",
    "d_out = d_weights3 @ d_out2\n",
    "Q8_8_out = np.zeros((2,), dtype=int)\n",
    "for i in range(2):\n",
    "    Q8_8_out[i] = d_to_Qn_n(d_out[i], 8)\n",
    "\n",
    "print('Q8.8 output:')\n",
    "print(Q8_8_out)"
   ]
  },
  {
   "cell_type": "code",
   "execution_count": 15,
   "metadata": {},
   "outputs": [
    {
     "name": "stdout",
     "output_type": "stream",
     "text": [
      "Q8.8 output with bias:\n",
      "[ 448 -288]\n"
     ]
    }
   ],
   "source": [
    "Q8_8_weights = np.array([[256, -128],[64,  512]])\n",
    "Q8_8_bias = np.array([32, -256])\n",
    "\n",
    "Q8_8_in = np.array([384, -64])\n",
    "\n",
    "d_weights = np.zeros((2, 2), dtype=float)\n",
    "for i in range(2):\n",
    "    for j in range(2):\n",
    "        d_weights[i][j] = Qn_n_to_d(Q8_8_weights[i][j], 8)\n",
    "\n",
    "d_bias = np.zeros((2,), dtype=float)\n",
    "for i in range(2):\n",
    "    d_bias[i] = Qn_n_to_d(Q8_8_bias[i], 8)\n",
    "\n",
    "d_in = np.zeros((2,), dtype=float)\n",
    "for i in range(2):\n",
    "    d_in[i] = Qn_n_to_d(Q8_8_in[i], 8)\n",
    "\n",
    "d_out = d_weights @ d_in + d_bias\n",
    "\n",
    "Q8_8_out = np.zeros((2,), dtype=int)\n",
    "for i in range(2):\n",
    "    Q8_8_out[i] = d_to_Qn_n(d_out[i], 8)\n",
    "\n",
    "print('Q8.8 output with bias:')\n",
    "print(Q8_8_out)"
   ]
  },
  {
   "cell_type": "code",
   "execution_count": 9,
   "metadata": {},
   "outputs": [
    {
     "data": {
      "text/plain": [
       "array([ 1.5 , -0.25])"
      ]
     },
     "execution_count": 9,
     "metadata": {},
     "output_type": "execute_result"
    }
   ],
   "source": [
    "d_in"
   ]
  }
 ],
 "metadata": {
  "kernelspec": {
   "display_name": "Python 3",
   "language": "python",
   "name": "python3"
  },
  "language_info": {
   "codemirror_mode": {
    "name": "ipython",
    "version": 3
   },
   "file_extension": ".py",
   "mimetype": "text/x-python",
   "name": "python",
   "nbconvert_exporter": "python",
   "pygments_lexer": "ipython3",
   "version": "3.9.6"
  }
 },
 "nbformat": 4,
 "nbformat_minor": 2
}
